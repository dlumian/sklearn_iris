{
 "cells": [
  {
   "cell_type": "markdown",
   "id": "e3dc516d",
   "metadata": {},
   "source": [
    "# SKLEARN HOUSING DATA\n",
    "## Data Generation Notebook"
   ]
  },
  {
   "cell_type": "markdown",
   "id": "03158ddf",
   "metadata": {},
   "source": [
    "This repo will use the built-in sklearn Boston housing dataset.\n",
    "\n",
    "This notebook will create csv files of the data to be used. "
   ]
  },
  {
   "cell_type": "markdown",
   "id": "727e5f38",
   "metadata": {},
   "source": [
    "NOTE: Environment for running tutorial can be found in environment directory.\n",
    "\n",
    "Key package versions are:\n",
    "1. numpy=1.19.5\n",
    "1. sklearn=0.22.1\n",
    "1. pandas=1.0.1\n",
    "1. seaborn=0.10.0"
   ]
  },
  {
   "cell_type": "code",
   "execution_count": null,
   "id": "dd9e1134",
   "metadata": {},
   "outputs": [],
   "source": [
    "import os\n",
    "import pandas as pd"
   ]
  },
  {
   "cell_type": "code",
   "execution_count": null,
   "id": "1eaafad7",
   "metadata": {},
   "outputs": [],
   "source": [
    "from sklearn.datasets import load_iris"
   ]
  },
  {
   "cell_type": "code",
   "execution_count": null,
   "id": "f52906db",
   "metadata": {},
   "outputs": [],
   "source": [
    "data = load_iris()\n",
    "df = pd.DataFrame(data=data.data, columns=data.feature_names)\n",
    "df[\"target\"] = data.target"
   ]
  },
  {
   "cell_type": "code",
   "execution_count": null,
   "id": "6b9679d6",
   "metadata": {},
   "outputs": [],
   "source": [
    "df.head()"
   ]
  },
  {
   "cell_type": "code",
   "execution_count": null,
   "id": "08e4d331",
   "metadata": {},
   "outputs": [],
   "source": [
    "os.getcwd()"
   ]
  },
  {
   "cell_type": "code",
   "execution_count": null,
   "id": "c9adb5ac",
   "metadata": {},
   "outputs": [],
   "source": [
    "data_path = os.path.join('..', 'data')"
   ]
  },
  {
   "cell_type": "code",
   "execution_count": null,
   "id": "e4fd6fdc",
   "metadata": {},
   "outputs": [],
   "source": [
    "data_file_path = os.path.join(data_path, 'data.csv')\n",
    "data_file_path"
   ]
  },
  {
   "cell_type": "code",
   "execution_count": null,
   "id": "21d8bf21",
   "metadata": {},
   "outputs": [],
   "source": [
    "os.makedirs(data_path, exist_ok=True)"
   ]
  },
  {
   "cell_type": "code",
   "execution_count": null,
   "id": "cb9ee5eb",
   "metadata": {},
   "outputs": [],
   "source": [
    "df.to_csv(data_file_path, index=False)"
   ]
  }
 ],
 "metadata": {
  "kernelspec": {
   "display_name": "Python 3",
   "language": "python",
   "name": "python3"
  },
  "language_info": {
   "codemirror_mode": {
    "name": "ipython",
    "version": 3
   },
   "file_extension": ".py",
   "mimetype": "text/x-python",
   "name": "python",
   "nbconvert_exporter": "python",
   "pygments_lexer": "ipython3",
   "version": "3.7.6"
  }
 },
 "nbformat": 4,
 "nbformat_minor": 5
}
